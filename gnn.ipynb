{
  "nbformat": 4,
  "nbformat_minor": 0,
  "metadata": {
    "colab": {
      "provenance": [],
      "authorship_tag": "ABX9TyOGu/nTZOzFn66j1UNH6m7n",
      "include_colab_link": true
    },
    "kernelspec": {
      "name": "python3",
      "display_name": "Python 3"
    },
    "language_info": {
      "name": "python"
    }
  },
  "cells": [
    {
      "cell_type": "markdown",
      "metadata": {
        "id": "view-in-github",
        "colab_type": "text"
      },
      "source": [
        "<a href=\"https://colab.research.google.com/github/AlirezaAhadipour/Practice/blob/main/gnn.ipynb\" target=\"_parent\"><img src=\"https://colab.research.google.com/assets/colab-badge.svg\" alt=\"Open In Colab\"/></a>"
      ]
    },
    {
      "cell_type": "markdown",
      "source": [
        "Graph Neural Netrorks"
      ],
      "metadata": {
        "id": "Ydwr7cZpwAgl"
      }
    },
    {
      "cell_type": "markdown",
      "source": [
        "perform node classification on **Cora** benchmark.\n",
        "\n",
        "- citation networks classify papers into topics\n",
        "- 2708 nodes, 5429 edges\n",
        "- bag-of-words features, 7 topics\n",
        "- 140 training, 500 validation, 1000 test"
      ],
      "metadata": {
        "id": "nLU9mXA-xvTp"
      }
    },
    {
      "cell_type": "code",
      "source": [
        "!pip install -q spektral --upgrade"
      ],
      "metadata": {
        "id": "GuVbsD9zwypF"
      },
      "execution_count": 1,
      "outputs": []
    },
    {
      "cell_type": "code",
      "execution_count": 2,
      "metadata": {
        "id": "i-PnpLRQv-QF"
      },
      "outputs": [],
      "source": [
        "import numpy as np\n",
        "import tensorflow as tf\n",
        "import spektral\n",
        "\n",
        "# from spektral.datasets import citation"
      ]
    },
    {
      "cell_type": "code",
      "source": [
        "cora_dataset = spektral.datasets.citation.Citation(name='cora')\n",
        "\n",
        "graph = cora_dataset.graphs[0]\n",
        "adjacency = graph.a\n",
        "features = graph.x\n",
        "labels = graph.y\n",
        "\n",
        "train_mask = cora_dataset.mask_tr\n",
        "val_mask = cora_dataset.mask_va\n",
        "test_mask = cora_dataset.mask_te"
      ],
      "metadata": {
        "id": "Di1EnLRYsszK"
      },
      "execution_count": 3,
      "outputs": []
    },
    {
      "cell_type": "code",
      "source": [
        "adjacency = adjacency + np.eye(adjacency.shape[0])\n",
        "adjacency = adjacency.astype('float32')\n",
        "\n",
        "features = features.astype('float32')"
      ],
      "metadata": {
        "id": "yv9CpWsliQ9Q"
      },
      "execution_count": 4,
      "outputs": []
    },
    {
      "cell_type": "code",
      "source": [
        "print(adjacency.shape)\n",
        "print(features.shape)\n",
        "print(labels.shape)"
      ],
      "metadata": {
        "colab": {
          "base_uri": "https://localhost:8080/"
        },
        "id": "VKaxUC7euaX2",
        "outputId": "29fd0236-bfb2-43b2-e2c0-dc6ba6c29429"
      },
      "execution_count": 5,
      "outputs": [
        {
          "output_type": "stream",
          "name": "stdout",
          "text": [
            "(2708, 2708)\n",
            "(2708, 1433)\n",
            "(2708, 7)\n"
          ]
        }
      ]
    },
    {
      "cell_type": "code",
      "source": [
        "print(train_mask.sum())"
      ],
      "metadata": {
        "colab": {
          "base_uri": "https://localhost:8080/"
        },
        "id": "1HwW_su1u6vV",
        "outputId": "0689f53f-e90b-4c92-d8fc-726d90605952"
      },
      "execution_count": 6,
      "outputs": [
        {
          "output_type": "stream",
          "name": "stdout",
          "text": [
            "140\n"
          ]
        }
      ]
    },
    {
      "cell_type": "code",
      "source": [
        "def masked_softmax_cross_entropy(logits, labels, mask):\n",
        "  loss = tf.nn.softmax_cross_entropy_with_logits(logits=logits, labels=labels)\n",
        "\n",
        "  mask = tf.cast(mask, dtype=tf.float32)\n",
        "  mask /= tf.reduce_mean(mask)\n",
        "\n",
        "  loss *= mask\n",
        "\n",
        "  return tf.reduce_mean(loss)\n",
        "\n",
        "\n",
        "def masked_accuracy(logits, labels, mask):\n",
        "  correct_prediction = tf.equal(tf.argmax(logits, 1), tf.argmax(labels, 1))\n",
        "  accuracy_all = tf.cast(correct_prediction, dtype=tf.float32)\n",
        "\n",
        "  mask = tf.cast(mask, dtype=tf.float32)\n",
        "  mask /= tf.reduce_mean(mask)\n",
        "\n",
        "  accuracy_all *= mask\n",
        "\n",
        "  return tf.reduce_mean(accuracy_all)"
      ],
      "metadata": {
        "id": "mEgns666vDDd"
      },
      "execution_count": 7,
      "outputs": []
    },
    {
      "cell_type": "code",
      "source": [
        "def gnn(adjacency_mtrx, feature_mtrx, transformation, activation_fn):\n",
        "  seq_fts = transformation(feature_mtrx)\n",
        "  ret_fts = tf.matmul(adjacency_mtrx, seq_fts)\n",
        "\n",
        "  return(activation_fn(ret_fts))"
      ],
      "metadata": {
        "id": "Ibj5ZJcdzoMo"
      },
      "execution_count": 8,
      "outputs": []
    },
    {
      "cell_type": "code",
      "source": [
        "def train_cora(adj, fts, gnn_fn, units, epochs, lr):\n",
        "  lyr_1 = tf.keras.layers.Dense(units)\n",
        "  lyr_2 = tf.keras.layers.Dense(7)\n",
        "\n",
        "  def gnn_cora(adj, fts):\n",
        "    hidden = gnn_fn(adj, fts, lyr_1, tf.nn.relu)\n",
        "    logits = gnn_fn(adj, hidden, lyr_2, tf.identity)\n",
        "\n",
        "    return logits\n",
        "\n",
        "  optimizer = tf.keras.optimizers.Adam(learning_rate=lr)\n",
        "\n",
        "  best_accuracy = 0\n",
        "  for epoch in range(epochs + 1):\n",
        "    with tf.GradientTape() as t:\n",
        "      logits = gnn_cora(adj, fts)\n",
        "      loss = masked_softmax_cross_entropy(logits, labels, train_mask)\n",
        "\n",
        "    vars = t.watched_variables()\n",
        "    grads = t.gradient(loss, vars)\n",
        "    optimizer.apply_gradients(zip(grads, vars))\n",
        "\n",
        "    logits = gnn_cora(adj, fts)\n",
        "    val_accuracy = masked_accuracy(logits, labels, val_mask)\n",
        "    test_accuracy = masked_accuracy(logits, labels, test_mask)\n",
        "\n",
        "    if val_accuracy > best_accuracy:\n",
        "      best_accuracy = val_accuracy\n",
        "      print(f\"Epoch: {epoch}, train_loss: {loss.numpy():.4f}, val_accuracy: {val_accuracy.numpy():.4f}, test_accuracy:  {test_accuracy.numpy():.4f}\")"
      ],
      "metadata": {
        "id": "fcbohpZz1Znu"
      },
      "execution_count": 9,
      "outputs": []
    },
    {
      "cell_type": "code",
      "source": [
        "# sum pooling\n",
        "train_cora(adjacency, features, gnn, 32, 100, 0.01)"
      ],
      "metadata": {
        "colab": {
          "base_uri": "https://localhost:8080/"
        },
        "id": "h7wcHojM7hks",
        "outputId": "48a1a928-6d01-491c-9a43-3ae5784d5fcf"
      },
      "execution_count": 10,
      "outputs": [
        {
          "output_type": "stream",
          "name": "stdout",
          "text": [
            "Epoch: 0, train_loss: 7.2104, val_accuracy: 0.1940, test_accuracy:  0.1970\n",
            "Epoch: 1, train_loss: 5.4446, val_accuracy: 0.2620, test_accuracy:  0.2650\n",
            "Epoch: 2, train_loss: 3.7592, val_accuracy: 0.5780, test_accuracy:  0.6050\n",
            "Epoch: 3, train_loss: 2.0005, val_accuracy: 0.6280, test_accuracy:  0.6720\n",
            "Epoch: 6, train_loss: 1.0376, val_accuracy: 0.6440, test_accuracy:  0.6530\n",
            "Epoch: 11, train_loss: 0.2765, val_accuracy: 0.6540, test_accuracy:  0.6710\n",
            "Epoch: 13, train_loss: 0.1826, val_accuracy: 0.6760, test_accuracy:  0.7090\n",
            "Epoch: 14, train_loss: 0.1585, val_accuracy: 0.6840, test_accuracy:  0.7270\n",
            "Epoch: 15, train_loss: 0.1400, val_accuracy: 0.6880, test_accuracy:  0.7330\n",
            "Epoch: 16, train_loss: 0.1254, val_accuracy: 0.6980, test_accuracy:  0.7340\n",
            "Epoch: 17, train_loss: 0.1141, val_accuracy: 0.7020, test_accuracy:  0.7410\n",
            "Epoch: 18, train_loss: 0.1039, val_accuracy: 0.7100, test_accuracy:  0.7380\n",
            "Epoch: 19, train_loss: 0.0928, val_accuracy: 0.7140, test_accuracy:  0.7370\n",
            "Epoch: 38, train_loss: 0.0138, val_accuracy: 0.7160, test_accuracy:  0.7380\n",
            "Epoch: 43, train_loss: 0.0099, val_accuracy: 0.7180, test_accuracy:  0.7310\n",
            "Epoch: 45, train_loss: 0.0089, val_accuracy: 0.7220, test_accuracy:  0.7330\n"
          ]
        }
      ]
    },
    {
      "cell_type": "code",
      "source": [
        "# mean pooling\n",
        "degree = tf.reduce_sum(adjacency, axis=-1)\n",
        "\n",
        "train_cora(adjacency/degree, features, gnn, 32, 100, 0.01)"
      ],
      "metadata": {
        "colab": {
          "base_uri": "https://localhost:8080/"
        },
        "id": "fclGNSyu78zR",
        "outputId": "2ccb7964-88c3-43a9-9e6e-da94ccef1f41"
      },
      "execution_count": 11,
      "outputs": [
        {
          "output_type": "stream",
          "name": "stdout",
          "text": [
            "Epoch: 0, train_loss: 1.9327, val_accuracy: 0.2660, test_accuracy:  0.3190\n",
            "Epoch: 1, train_loss: 1.7101, val_accuracy: 0.4220, test_accuracy:  0.4410\n",
            "Epoch: 2, train_loss: 1.4737, val_accuracy: 0.5260, test_accuracy:  0.5460\n",
            "Epoch: 3, train_loss: 1.2409, val_accuracy: 0.6240, test_accuracy:  0.6480\n",
            "Epoch: 4, train_loss: 1.0277, val_accuracy: 0.6940, test_accuracy:  0.7180\n",
            "Epoch: 5, train_loss: 0.8406, val_accuracy: 0.7360, test_accuracy:  0.7560\n",
            "Epoch: 6, train_loss: 0.6791, val_accuracy: 0.7640, test_accuracy:  0.7790\n",
            "Epoch: 7, train_loss: 0.5436, val_accuracy: 0.7820, test_accuracy:  0.8000\n",
            "Epoch: 9, train_loss: 0.3441, val_accuracy: 0.7860, test_accuracy:  0.8080\n",
            "Epoch: 11, train_loss: 0.2146, val_accuracy: 0.7880, test_accuracy:  0.8070\n",
            "Epoch: 12, train_loss: 0.1691, val_accuracy: 0.7940, test_accuracy:  0.8060\n"
          ]
        }
      ]
    },
    {
      "cell_type": "code",
      "source": [
        "# graph convolutional network\n",
        "deg = tf.reduce_sum(adjacency, axis=-1)\n",
        "norm_deg = tf.linalg.diag(1.0 / tf.sqrt(deg))\n",
        "norm_adj = tf.matmul(norm_deg, tf.matmul(adjacency, norm_deg))\n",
        "\n",
        "train_cora(norm_adj, features, gnn, 32, 100, 0.01)"
      ],
      "metadata": {
        "colab": {
          "base_uri": "https://localhost:8080/"
        },
        "id": "EVY3MWMV-LJB",
        "outputId": "affadf66-d7d2-4a9b-80c6-8bae0a2fe165"
      },
      "execution_count": 12,
      "outputs": [
        {
          "output_type": "stream",
          "name": "stdout",
          "text": [
            "Epoch: 0, train_loss: 1.9479, val_accuracy: 0.6420, test_accuracy:  0.6420\n",
            "Epoch: 1, train_loss: 1.7555, val_accuracy: 0.7140, test_accuracy:  0.7310\n",
            "Epoch: 2, train_loss: 1.5274, val_accuracy: 0.7460, test_accuracy:  0.7830\n",
            "Epoch: 3, train_loss: 1.2857, val_accuracy: 0.7580, test_accuracy:  0.7940\n",
            "Epoch: 4, train_loss: 1.0600, val_accuracy: 0.7620, test_accuracy:  0.7990\n",
            "Epoch: 5, train_loss: 0.8587, val_accuracy: 0.7820, test_accuracy:  0.8050\n",
            "Epoch: 6, train_loss: 0.6821, val_accuracy: 0.7840, test_accuracy:  0.8070\n"
          ]
        }
      ]
    },
    {
      "cell_type": "code",
      "source": [],
      "metadata": {
        "id": "Bbzl8c0AAPjo"
      },
      "execution_count": 12,
      "outputs": []
    }
  ]
}