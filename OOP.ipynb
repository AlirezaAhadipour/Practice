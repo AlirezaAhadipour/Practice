{
  "nbformat": 4,
  "nbformat_minor": 0,
  "metadata": {
    "colab": {
      "provenance": [],
      "authorship_tag": "ABX9TyM1lmj1b+ks8swzbyaQTtY0",
      "include_colab_link": true
    },
    "kernelspec": {
      "name": "python3",
      "display_name": "Python 3"
    },
    "language_info": {
      "name": "python"
    }
  },
  "cells": [
    {
      "cell_type": "markdown",
      "metadata": {
        "id": "view-in-github",
        "colab_type": "text"
      },
      "source": [
        "<a href=\"https://colab.research.google.com/github/AlirezaAhadipour/Practice/blob/main/OOP.ipynb\" target=\"_parent\"><img src=\"https://colab.research.google.com/assets/colab-badge.svg\" alt=\"Open In Colab\"/></a>"
      ]
    },
    {
      "cell_type": "markdown",
      "source": [
        "Object Oriented Programming"
      ],
      "metadata": {
        "id": "V3X_BfoIieEz"
      }
    },
    {
      "cell_type": "code",
      "execution_count": 23,
      "metadata": {
        "id": "Sa4nco-gibAc"
      },
      "outputs": [],
      "source": [
        "class Dog:\n",
        "  def __init__(self, name, age):\n",
        "    self.name = name\n",
        "    self.age = age\n",
        "\n",
        "  def get_name(self):\n",
        "    return self.name\n",
        "\n",
        "  def get_age(self):\n",
        "    return self.age\n",
        "\n",
        "  def set_age(self, age):\n",
        "    self.age = age\n",
        "\n",
        "  def bark(self):\n",
        "    print('woof')"
      ]
    },
    {
      "cell_type": "code",
      "source": [
        "d = Dog('Tim', 4)"
      ],
      "metadata": {
        "id": "7iXvHn41kbIG"
      },
      "execution_count": 25,
      "outputs": []
    },
    {
      "cell_type": "code",
      "source": [
        "d.name"
      ],
      "metadata": {
        "colab": {
          "base_uri": "https://localhost:8080/",
          "height": 35
        },
        "id": "6bWGp5sZlKsu",
        "outputId": "49f53e07-f9a9-4547-8816-15d3cab59078"
      },
      "execution_count": 28,
      "outputs": [
        {
          "output_type": "execute_result",
          "data": {
            "text/plain": [
              "'Tim'"
            ],
            "application/vnd.google.colaboratory.intrinsic+json": {
              "type": "string"
            }
          },
          "metadata": {},
          "execution_count": 28
        }
      ]
    },
    {
      "cell_type": "code",
      "source": [
        "d.get_name()"
      ],
      "metadata": {
        "colab": {
          "base_uri": "https://localhost:8080/",
          "height": 35
        },
        "id": "ftyqVHLwm7Dw",
        "outputId": "60612f4a-2075-4c88-d041-802edbba7d34"
      },
      "execution_count": 27,
      "outputs": [
        {
          "output_type": "execute_result",
          "data": {
            "text/plain": [
              "'Tim'"
            ],
            "application/vnd.google.colaboratory.intrinsic+json": {
              "type": "string"
            }
          },
          "metadata": {},
          "execution_count": 27
        }
      ]
    },
    {
      "cell_type": "code",
      "source": [
        "print(d.get_age())\n",
        "d.set_age(7)\n",
        "print(d.get_age())"
      ],
      "metadata": {
        "colab": {
          "base_uri": "https://localhost:8080/"
        },
        "id": "uPjxnBMvpHB_",
        "outputId": "ffc05d78-9667-4865-fec1-9c05a514dafb"
      },
      "execution_count": 30,
      "outputs": [
        {
          "output_type": "stream",
          "name": "stdout",
          "text": [
            "4\n",
            "7\n"
          ]
        }
      ]
    },
    {
      "cell_type": "code",
      "source": [],
      "metadata": {
        "id": "HvzK6bzMpgP2"
      },
      "execution_count": 31,
      "outputs": []
    },
    {
      "cell_type": "code",
      "source": [],
      "metadata": {
        "id": "pkQxImQcuOV6"
      },
      "execution_count": null,
      "outputs": []
    },
    {
      "cell_type": "code",
      "source": [],
      "metadata": {
        "id": "eZZSRBD9uOTK"
      },
      "execution_count": null,
      "outputs": []
    },
    {
      "cell_type": "code",
      "source": [
        "class Student:\n",
        "  def __init__(self, name, age, grade):\n",
        "    self.name = name\n",
        "    self.age = age\n",
        "    self.grade = grade\n",
        "\n",
        "  def get_grade(self):\n",
        "    return self.grade\n",
        "\n",
        "\n",
        "class Course:\n",
        "  def __init__(self, name, max_students):\n",
        "    self.name = name\n",
        "    self.max_students = max_students\n",
        "    self.students = []\n",
        "\n",
        "  def add_student(self, student):\n",
        "    if len(self.students) < self.max_students:\n",
        "      self.students.append(student)\n",
        "      return True\n",
        "    return False\n",
        "\n",
        "  def get_average_grade(self):\n",
        "    value = 0\n",
        "    for student in self.students:\n",
        "      value += student.get_grade()\n",
        "\n",
        "    average = value / len(self.students)\n",
        "    return average\n"
      ],
      "metadata": {
        "id": "Hi_6H1dnuOQG"
      },
      "execution_count": 49,
      "outputs": []
    },
    {
      "cell_type": "code",
      "source": [
        "s1 = Student('Tim', 19, 95)\n",
        "s2 = Student('Alex', 16, 93)\n",
        "s3 = Student('Bob', 17, 88)\n"
      ],
      "metadata": {
        "id": "6BMPC_3fw_Cu"
      },
      "execution_count": 50,
      "outputs": []
    },
    {
      "cell_type": "code",
      "source": [
        "course = Course(\"CS\", 2)\n",
        "course.add_student(s1)\n",
        "course.add_student(s2)\n"
      ],
      "metadata": {
        "colab": {
          "base_uri": "https://localhost:8080/"
        },
        "id": "DpVvZgnYxjeR",
        "outputId": "f0e13b11-b16b-409f-c56f-ac19b1f4684e"
      },
      "execution_count": 51,
      "outputs": [
        {
          "output_type": "execute_result",
          "data": {
            "text/plain": [
              "True"
            ]
          },
          "metadata": {},
          "execution_count": 51
        }
      ]
    },
    {
      "cell_type": "code",
      "source": [
        "course.students[1].name"
      ],
      "metadata": {
        "colab": {
          "base_uri": "https://localhost:8080/",
          "height": 35
        },
        "id": "ZPnGnsb3xzqN",
        "outputId": "13c6b3b8-50a2-44dc-cef0-a45f249edba0"
      },
      "execution_count": 52,
      "outputs": [
        {
          "output_type": "execute_result",
          "data": {
            "text/plain": [
              "'Alex'"
            ],
            "application/vnd.google.colaboratory.intrinsic+json": {
              "type": "string"
            }
          },
          "metadata": {},
          "execution_count": 52
        }
      ]
    },
    {
      "cell_type": "code",
      "source": [
        "course.get_average_grade()"
      ],
      "metadata": {
        "colab": {
          "base_uri": "https://localhost:8080/"
        },
        "id": "6s7D1GqyydH8",
        "outputId": "cedc0183-5dfc-4eee-97f8-76282cd2b6b6"
      },
      "execution_count": 54,
      "outputs": [
        {
          "output_type": "execute_result",
          "data": {
            "text/plain": [
              "94.0"
            ]
          },
          "metadata": {},
          "execution_count": 54
        }
      ]
    },
    {
      "cell_type": "code",
      "source": [],
      "metadata": {
        "id": "rkPK223m0WU_"
      },
      "execution_count": null,
      "outputs": []
    },
    {
      "cell_type": "code",
      "source": [],
      "metadata": {
        "id": "X90wmt4G3j62"
      },
      "execution_count": null,
      "outputs": []
    },
    {
      "cell_type": "code",
      "source": [],
      "metadata": {
        "id": "cyHj6uNY3jer"
      },
      "execution_count": null,
      "outputs": []
    },
    {
      "cell_type": "code",
      "source": [
        "class Cat:\n",
        "  def __innit__(self, name, age):\n",
        "    self.name = name\n",
        "    self.age = age\n",
        "\n",
        "  def speak(self):\n",
        "    print('Meow')\n",
        "\n",
        "\n",
        "class Dog:\n",
        "  def __init__(self, name, age):\n",
        "    self.name = name\n",
        "    self.age = age\n",
        "\n",
        "  def speak(self):\n",
        "    print('Woof')"
      ],
      "metadata": {
        "id": "z-vJR0g93jbs"
      },
      "execution_count": null,
      "outputs": []
    },
    {
      "cell_type": "markdown",
      "source": [
        "Inheritance!"
      ],
      "metadata": {
        "id": "rZrELZz161LS"
      }
    },
    {
      "cell_type": "code",
      "source": [
        "class Pet:\n",
        "  def __init__(self, name, age):\n",
        "    self.name = name\n",
        "    self.age = age\n",
        "\n",
        "  def show(self):\n",
        "    print(f\"I am {self.name} and I am {self.age} years old\")\n",
        "\n",
        "\n",
        "class Cat(Pet):\n",
        "  def __init__(self, name, age, color):\n",
        "    super().__init__(name, age)\n",
        "    self.color = color\n",
        "\n",
        "  def speak(self):\n",
        "    print('Meow')\n",
        "\n",
        "\n",
        "class Dog(Pet):\n",
        "  def speak(self):\n",
        "    print('Woof')"
      ],
      "metadata": {
        "id": "slxg75bp58BH"
      },
      "execution_count": 55,
      "outputs": []
    },
    {
      "cell_type": "code",
      "source": [
        "p = Pet('Tim', 19)\n",
        "p.show()"
      ],
      "metadata": {
        "colab": {
          "base_uri": "https://localhost:8080/"
        },
        "id": "4q0Gz70Z7MaU",
        "outputId": "26365a05-5978-4ee6-e47a-675ee0af9a91"
      },
      "execution_count": 56,
      "outputs": [
        {
          "output_type": "stream",
          "name": "stdout",
          "text": [
            "I am Tim and I am 19 years old\n"
          ]
        }
      ]
    },
    {
      "cell_type": "code",
      "source": [
        "c = Cat('Bill', 34)\n",
        "c.show()"
      ],
      "metadata": {
        "colab": {
          "base_uri": "https://localhost:8080/"
        },
        "id": "RCIAh6pw7UHB",
        "outputId": "bf3b6f8b-2870-424f-c2d5-ad3a03a33644"
      },
      "execution_count": 59,
      "outputs": [
        {
          "output_type": "stream",
          "name": "stdout",
          "text": [
            "I am Bill and I am 34 years old\n"
          ]
        }
      ]
    },
    {
      "cell_type": "code",
      "source": [
        "c.speak()"
      ],
      "metadata": {
        "colab": {
          "base_uri": "https://localhost:8080/"
        },
        "id": "wjVAJnh87l7t",
        "outputId": "0ba2e627-e2da-4eca-9d1e-ceef6ffb6c9a"
      },
      "execution_count": 60,
      "outputs": [
        {
          "output_type": "stream",
          "name": "stdout",
          "text": [
            "Meow\n"
          ]
        }
      ]
    },
    {
      "cell_type": "code",
      "source": [],
      "metadata": {
        "id": "7lQch_SG8Pkz"
      },
      "execution_count": null,
      "outputs": []
    }
  ]
}