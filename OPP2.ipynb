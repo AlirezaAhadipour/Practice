{
  "nbformat": 4,
  "nbformat_minor": 0,
  "metadata": {
    "colab": {
      "provenance": [],
      "authorship_tag": "ABX9TyP6C1BcV6ZFGek8FFEbFJAE",
      "include_colab_link": true
    },
    "kernelspec": {
      "name": "python3",
      "display_name": "Python 3"
    },
    "language_info": {
      "name": "python"
    }
  },
  "cells": [
    {
      "cell_type": "markdown",
      "metadata": {
        "id": "view-in-github",
        "colab_type": "text"
      },
      "source": [
        "<a href=\"https://colab.research.google.com/github/AlirezaAhadipour/Practice/blob/main/OPP2.ipynb\" target=\"_parent\"><img src=\"https://colab.research.google.com/assets/colab-badge.svg\" alt=\"Open In Colab\"/></a>"
      ]
    },
    {
      "cell_type": "code",
      "execution_count": null,
      "metadata": {
        "colab": {
          "base_uri": "https://localhost:8080/"
        },
        "id": "jPpN9uZusOM5",
        "outputId": "53ba1a96-9449-48f7-8f54-811b35e4abac"
      },
      "outputs": [
        {
          "output_type": "stream",
          "name": "stdout",
          "text": [
            "<__main__.Employee object at 0x7c3fd46e0350>\n",
            "<__main__.Employee object at 0x7c3fd46e0310>\n"
          ]
        }
      ],
      "source": [
        "class Employee:\n",
        "  pass\n",
        "\n",
        "emp_1 = Employee()\n",
        "emp_2 = Employee()\n",
        "\n",
        "print(emp_1)\n",
        "print(emp_2)"
      ]
    },
    {
      "cell_type": "code",
      "source": [
        "emp_1.first = 'Corey'\n",
        "emp_1.last = 'Schafer'\n",
        "emp_1.email = 'Cory.Schafer@company.com'\n",
        "emp_1.pay = 50000\n",
        "\n",
        "emp_2.first = 'Test'\n",
        "emp_2.last = 'User'\n",
        "emp_2.email = 'Test.User@company.com'\n",
        "emp_2.pay = 55000\n",
        "\n",
        "print(emp_1.email)\n",
        "print(emp_2.email)"
      ],
      "metadata": {
        "colab": {
          "base_uri": "https://localhost:8080/"
        },
        "id": "A4l9VYsPt2wg",
        "outputId": "18277429-6bd2-46f2-f49d-088cf63448cb"
      },
      "execution_count": null,
      "outputs": [
        {
          "output_type": "stream",
          "name": "stdout",
          "text": [
            "Cory.Schafer@company.com\n",
            "Test.User@company.com\n"
          ]
        }
      ]
    },
    {
      "cell_type": "code",
      "source": [],
      "metadata": {
        "id": "p_dXuuKdvf9Y"
      },
      "execution_count": null,
      "outputs": []
    },
    {
      "cell_type": "code",
      "source": [
        "class Employee:\n",
        "  def __init__(self, first, last, pay):\n",
        "    self.first = first\n",
        "    self.last = last\n",
        "    self.pay = pay\n",
        "    self.email = self.first + '.' + self.last + '@company.com'\n",
        "\n",
        "emp_1 = Employee('Cory', 'Schafer', 50000)\n",
        "emp_2 = Employee('Test', 'User', 55000)\n",
        "\n",
        "print(emp_1.email)\n",
        "print(emp_2.email)"
      ],
      "metadata": {
        "colab": {
          "base_uri": "https://localhost:8080/"
        },
        "id": "pP9oLlCbv3Te",
        "outputId": "f7aa17ef-7dbc-4f87-a7fe-44aff0308198"
      },
      "execution_count": null,
      "outputs": [
        {
          "output_type": "stream",
          "name": "stdout",
          "text": [
            "Cory.Schafer@company.com\n",
            "Test.User@company.com\n"
          ]
        }
      ]
    },
    {
      "cell_type": "code",
      "source": [
        "full_name = f\"{emp_1.first} {emp_1.last}\"\n",
        "print(full_name)"
      ],
      "metadata": {
        "colab": {
          "base_uri": "https://localhost:8080/"
        },
        "id": "5FMBaQou-Gz9",
        "outputId": "16a0737f-d869-4725-c5bd-5ac650bcdc2c"
      },
      "execution_count": null,
      "outputs": [
        {
          "output_type": "stream",
          "name": "stdout",
          "text": [
            "Cory Schafer\n"
          ]
        }
      ]
    },
    {
      "cell_type": "code",
      "source": [],
      "metadata": {
        "id": "DT5lRGMD-ZMq"
      },
      "execution_count": null,
      "outputs": []
    },
    {
      "cell_type": "code",
      "source": [
        "class Employee:\n",
        "  def __init__(self, first, last, pay):\n",
        "    self.first = first\n",
        "    self.last = last\n",
        "    self.pay = pay\n",
        "    self.email = self.first + '.' + self.last + '@company.com'\n",
        "\n",
        "  def fullname(self):\n",
        "    return f\"{self.first} {self.last}\"\n",
        "\n",
        "emp_1 = Employee('Cory', 'Schafer', 50000)\n",
        "emp_2 = Employee('Test', 'User', 55000)\n",
        "\n",
        "print(emp_1.fullname())\n",
        "print(emp_2.fullname())"
      ],
      "metadata": {
        "colab": {
          "base_uri": "https://localhost:8080/"
        },
        "id": "QyYHHjvLwdbx",
        "outputId": "419722f3-44c6-4ad8-c951-9037828968b3"
      },
      "execution_count": null,
      "outputs": [
        {
          "output_type": "stream",
          "name": "stdout",
          "text": [
            "Cory Schafer\n",
            "Test User\n"
          ]
        }
      ]
    },
    {
      "cell_type": "code",
      "source": [
        "print(emp_1.fullname())\n",
        "print(Employee.fullname(emp_1))"
      ],
      "metadata": {
        "colab": {
          "base_uri": "https://localhost:8080/"
        },
        "id": "eshdEbki-iH8",
        "outputId": "e9f5ad67-3944-411f-af3b-ccde7873f565"
      },
      "execution_count": null,
      "outputs": [
        {
          "output_type": "stream",
          "name": "stdout",
          "text": [
            "Cory Schafer\n",
            "Cory Schafer\n"
          ]
        }
      ]
    },
    {
      "cell_type": "code",
      "source": [],
      "metadata": {
        "id": "RzdIlS2D_fmx"
      },
      "execution_count": null,
      "outputs": []
    },
    {
      "cell_type": "markdown",
      "source": [
        "class variables"
      ],
      "metadata": {
        "id": "_J4n66b3D15H"
      }
    },
    {
      "cell_type": "code",
      "source": [
        "class Employee:\n",
        "  def __init__(self, first, last, pay):\n",
        "    self.first = first\n",
        "    self.last = last\n",
        "    self.pay = pay\n",
        "    self.email = self.first + '.' + self.last + '@company.com'\n",
        "\n",
        "  def fullname(self):\n",
        "    return f\"{self.first} {self.last}\"\n",
        "\n",
        "  def apply_raise(self):\n",
        "    self.pay = int(self.pay * 1.04)\n",
        "\n",
        "emp_1 = Employee('Cory', 'Schafer', 50000)\n",
        "emp_2 = Employee('Test', 'User', 55000)\n",
        "\n",
        "print(emp_1.pay)\n",
        "emp_1.apply_raise()\n",
        "print(emp_1.pay)"
      ],
      "metadata": {
        "colab": {
          "base_uri": "https://localhost:8080/"
        },
        "id": "vn0-rCgcD0mE",
        "outputId": "bfb617b7-e753-4dac-d2be-9f36b424e81a"
      },
      "execution_count": null,
      "outputs": [
        {
          "output_type": "stream",
          "name": "stdout",
          "text": [
            "50000\n",
            "52000\n"
          ]
        }
      ]
    },
    {
      "cell_type": "code",
      "source": [
        "class Employee:\n",
        "\n",
        "  raise_amount = 1.04\n",
        "\n",
        "  def __init__(self, first, last, pay):\n",
        "    self.first = first\n",
        "    self.last = last\n",
        "    self.pay = pay\n",
        "    self.email = self.first + '.' + self.last + '@company.com'\n",
        "\n",
        "  def fullname(self):\n",
        "    return f\"{self.first} {self.last}\"\n",
        "\n",
        "  def apply_raise(self):\n",
        "    self.pay = int(self.pay * Employee.raise_amount)   #self.raise_amount works too!\n",
        "\n",
        "\n",
        "emp_1 = Employee('Cory', 'Schafer', 50000)\n",
        "emp_2 = Employee('Test', 'User', 55000)\n",
        "\n",
        "print(emp_1.pay)\n",
        "emp_1.apply_raise()\n",
        "print(emp_1.pay)"
      ],
      "metadata": {
        "colab": {
          "base_uri": "https://localhost:8080/"
        },
        "id": "H_zAUljCEkTi",
        "outputId": "7c2e810c-141e-4760-a428-ea97db5863a7"
      },
      "execution_count": null,
      "outputs": [
        {
          "output_type": "stream",
          "name": "stdout",
          "text": [
            "50000\n",
            "52000\n"
          ]
        }
      ]
    },
    {
      "cell_type": "code",
      "source": [
        "print(Employee.raise_amount)\n",
        "print(emp_1.raise_amount)\n",
        "print(emp_2.raise_amount)"
      ],
      "metadata": {
        "colab": {
          "base_uri": "https://localhost:8080/"
        },
        "id": "JHxXYJfcGKnT",
        "outputId": "3194a508-cc5f-4d8f-ad0a-1d167071c8f5"
      },
      "execution_count": null,
      "outputs": [
        {
          "output_type": "stream",
          "name": "stdout",
          "text": [
            "1.04\n",
            "1.04\n",
            "1.04\n"
          ]
        }
      ]
    },
    {
      "cell_type": "code",
      "source": [
        "emp_1.raise_amount = 1.05\n",
        "\n",
        "print(Employee.raise_amount)\n",
        "print(emp_1.raise_amount)\n",
        "print(emp_2.raise_amount)"
      ],
      "metadata": {
        "colab": {
          "base_uri": "https://localhost:8080/"
        },
        "id": "6ZlxSp8VFL5T",
        "outputId": "d41744bf-56ba-43e6-f832-6041569b36ec"
      },
      "execution_count": null,
      "outputs": [
        {
          "output_type": "stream",
          "name": "stdout",
          "text": [
            "1.04\n",
            "1.05\n",
            "1.04\n"
          ]
        }
      ]
    },
    {
      "cell_type": "code",
      "source": [
        "Employee.raise_amount = 1.05\n",
        "\n",
        "print(Employee.raise_amount)\n",
        "print(emp_1.raise_amount)\n",
        "print(emp_2.raise_amount)"
      ],
      "metadata": {
        "colab": {
          "base_uri": "https://localhost:8080/"
        },
        "id": "53Vh4c57GbZN",
        "outputId": "2355f858-15a0-41fa-d1a2-5b72084ea71a"
      },
      "execution_count": null,
      "outputs": [
        {
          "output_type": "stream",
          "name": "stdout",
          "text": [
            "1.05\n",
            "1.05\n",
            "1.05\n"
          ]
        }
      ]
    },
    {
      "cell_type": "code",
      "source": [
        "class Employee:\n",
        "\n",
        "  num_employees = 0\n",
        "  raise_amount = 1.04\n",
        "\n",
        "  def __init__(self, first, last, pay):\n",
        "    self.first = first\n",
        "    self.last = last\n",
        "    self.pay = pay\n",
        "    self.email = self.first + '.' + self.last + '@company.com'\n",
        "\n",
        "    Employee.num_employees += 1\n",
        "\n",
        "  def fullname(self):\n",
        "    return f\"{self.first} {self.last}\"\n",
        "\n",
        "  def apply_raise(self):\n",
        "    self.pay = int(self.pay * Employee.raise_amount)   #self.raise_amount works too!\n",
        "\n",
        "print(Employee.num_employees)\n",
        "\n",
        "emp_1 = Employee('Cory', 'Schafer', 50000)\n",
        "emp_2 = Employee('Test', 'User', 55000)\n",
        "\n",
        "print(Employee.num_employees)"
      ],
      "metadata": {
        "colab": {
          "base_uri": "https://localhost:8080/"
        },
        "id": "gphFZbCGGf8-",
        "outputId": "54867602-bdbe-4f15-8f91-cbba00042ffb"
      },
      "execution_count": null,
      "outputs": [
        {
          "output_type": "stream",
          "name": "stdout",
          "text": [
            "0\n",
            "2\n"
          ]
        }
      ]
    },
    {
      "cell_type": "code",
      "source": [],
      "metadata": {
        "id": "ShoCdZxyJfUh"
      },
      "execution_count": null,
      "outputs": []
    },
    {
      "cell_type": "markdown",
      "source": [
        "class methods"
      ],
      "metadata": {
        "id": "oGFF2SXnLK8Z"
      }
    },
    {
      "cell_type": "code",
      "source": [
        "class Employee:\n",
        "\n",
        "  num_employees = 0\n",
        "  raise_amount = 1.04\n",
        "\n",
        "  def __init__(self, first, last, pay):\n",
        "    self.first = first\n",
        "    self.last = last\n",
        "    self.pay = pay\n",
        "    self.email = self.first + '.' + self.last + '@company.com'\n",
        "\n",
        "    Employee.num_employees += 1\n",
        "\n",
        "  def fullname(self):\n",
        "    return f\"{self.first} {self.last}\"\n",
        "\n",
        "  def apply_raise(self):\n",
        "    self.pay = int(self.pay * Employee.raise_amount)\n",
        "\n",
        "  @classmethod\n",
        "  def set_raise_amount(cls, amount):\n",
        "    cls.raise_amount = amount\n",
        "\n",
        "\n",
        "\n",
        "emp_1 = Employee('Cory', 'Schafer', 50000)\n",
        "emp_2 = Employee('Test', 'User', 55000)\n",
        "\n",
        "print(Employee.raise_amount)\n",
        "print(emp_1.raise_amount)\n",
        "print(emp_2.raise_amount)"
      ],
      "metadata": {
        "colab": {
          "base_uri": "https://localhost:8080/"
        },
        "id": "YVwZuJXmLNv8",
        "outputId": "a53fef42-fb3c-471e-9616-99b6d67d9959"
      },
      "execution_count": null,
      "outputs": [
        {
          "output_type": "stream",
          "name": "stdout",
          "text": [
            "1.04\n",
            "1.04\n",
            "1.04\n"
          ]
        }
      ]
    },
    {
      "cell_type": "code",
      "source": [
        "Employee.set_raise_amount(1.05)\n",
        "\n",
        "print(Employee.raise_amount)\n",
        "print(emp_1.raise_amount)\n",
        "print(emp_2.raise_amount)"
      ],
      "metadata": {
        "colab": {
          "base_uri": "https://localhost:8080/"
        },
        "id": "Rcz2HQ3cM8A_",
        "outputId": "e9eab907-9493-4666-925d-b147a4476d80"
      },
      "execution_count": null,
      "outputs": [
        {
          "output_type": "stream",
          "name": "stdout",
          "text": [
            "1.05\n",
            "1.05\n",
            "1.05\n"
          ]
        }
      ]
    },
    {
      "cell_type": "code",
      "source": [
        "emp_1.set_raise_amount(1.03)\n",
        "\n",
        "print(Employee.raise_amount)\n",
        "print(emp_1.raise_amount)\n",
        "print(emp_2.raise_amount)"
      ],
      "metadata": {
        "colab": {
          "base_uri": "https://localhost:8080/"
        },
        "id": "TX5CUYISNPyh",
        "outputId": "cb205baf-11ac-47e7-ff97-c6d9dcb1cfc5"
      },
      "execution_count": null,
      "outputs": [
        {
          "output_type": "stream",
          "name": "stdout",
          "text": [
            "1.03\n",
            "1.03\n",
            "1.03\n"
          ]
        }
      ]
    },
    {
      "cell_type": "code",
      "source": [],
      "metadata": {
        "id": "mybeoz-MNrDO"
      },
      "execution_count": null,
      "outputs": []
    },
    {
      "cell_type": "code",
      "source": [
        "emp_1_str = 'John-Doe-70000'\n",
        "emp_2_str = 'Jane_Doe_90000'\n",
        "\n",
        "first, last, pay = emp_1_str.split('-')\n",
        "new_emp_1 = Employee(first, last, pay)\n",
        "\n",
        "print(new_emp_1.email)\n",
        "print(new_emp_1.pay)"
      ],
      "metadata": {
        "colab": {
          "base_uri": "https://localhost:8080/"
        },
        "id": "3JJcEuEdQ3z1",
        "outputId": "7995fa38-ed87-4a33-d27c-d110f80360db"
      },
      "execution_count": null,
      "outputs": [
        {
          "output_type": "stream",
          "name": "stdout",
          "text": [
            "John.Doe@company.com\n",
            "70000\n"
          ]
        }
      ]
    },
    {
      "cell_type": "code",
      "source": [
        "class Employee:\n",
        "\n",
        "  num_employees = 0\n",
        "  raise_amount = 1.04\n",
        "\n",
        "  def __init__(self, first, last, pay):\n",
        "    self.first = first\n",
        "    self.last = last\n",
        "    self.pay = pay\n",
        "    self.email = self.first + '.' + self.last + '@company.com'\n",
        "\n",
        "    Employee.num_employees += 1\n",
        "\n",
        "  def fullname(self):\n",
        "    return f\"{self.first} {self.last}\"\n",
        "\n",
        "  def apply_raise(self):\n",
        "    self.pay = int(self.pay * Employee.raise_amount)\n",
        "\n",
        "  @classmethod\n",
        "  def set_raise_amount(cls, amount):\n",
        "    cls.raise_amount = amount\n",
        "\n",
        "  @classmethod\n",
        "  def from_str(cls, emp_str):\n",
        "    first, last, pay = emp_str.split('-')\n",
        "    pay = int(pay)\n",
        "    return cls(first, last, pay)\n",
        "\n",
        "\n",
        "\n",
        "emp_1_str = 'John-Doe-70000'\n",
        "emp_2_str = 'Jane_Doe_90000'\n",
        "\n",
        "new_emp_1 = Employee.from_str(emp_1_str)\n",
        "\n",
        "print(new_emp_1.email)\n",
        "print(new_emp_1.pay)"
      ],
      "metadata": {
        "colab": {
          "base_uri": "https://localhost:8080/"
        },
        "id": "kWfxKDhZRzzd",
        "outputId": "611b4e6e-fee8-4af8-f480-e843b2ccf551"
      },
      "execution_count": null,
      "outputs": [
        {
          "output_type": "stream",
          "name": "stdout",
          "text": [
            "John.Doe@company.com\n",
            "70000\n"
          ]
        }
      ]
    },
    {
      "cell_type": "code",
      "source": [
        "new_emp_1.apply_raise()\n",
        "print(new_emp_1.pay)"
      ],
      "metadata": {
        "colab": {
          "base_uri": "https://localhost:8080/"
        },
        "id": "zggqFr6FUYCV",
        "outputId": "4fe1bf6e-5df8-4015-9fe9-6803a6a43991"
      },
      "execution_count": null,
      "outputs": [
        {
          "output_type": "stream",
          "name": "stdout",
          "text": [
            "72800\n"
          ]
        }
      ]
    },
    {
      "cell_type": "code",
      "source": [],
      "metadata": {
        "id": "tu4JSZB_UjM7"
      },
      "execution_count": null,
      "outputs": []
    },
    {
      "cell_type": "markdown",
      "source": [
        "static methods"
      ],
      "metadata": {
        "id": "BIWqLG12Ves6"
      }
    },
    {
      "cell_type": "code",
      "source": [
        "class Employee:\n",
        "\n",
        "  num_employees = 0\n",
        "  raise_amount = 1.04\n",
        "\n",
        "  def __init__(self, first, last, pay):\n",
        "    self.first = first\n",
        "    self.last = last\n",
        "    self.pay = pay\n",
        "    self.email = self.first + '.' + self.last + '@company.com'\n",
        "\n",
        "    Employee.num_employees += 1\n",
        "\n",
        "  def fullname(self):\n",
        "    return f\"{self.first} {self.last}\"\n",
        "\n",
        "  def apply_raise(self):\n",
        "    self.pay = int(self.pay * Employee.raise_amount)\n",
        "\n",
        "  @classmethod\n",
        "  def set_raise_amount(cls, amount):\n",
        "    cls.raise_amount = amount\n",
        "\n",
        "  @classmethod\n",
        "  def from_str(cls, emp_str):\n",
        "    first, last, pay = emp_str.split('-')\n",
        "    pay = int(pay)\n",
        "    return cls(first, last, pay)\n",
        "\n",
        "  @staticmethod\n",
        "  def is_workday(day):   # Monday: 0, ..., Saturday: 6\n",
        "    if day.weekday() == 5 or day.weekday() == 6:\n",
        "      return False\n",
        "    return True\n"
      ],
      "metadata": {
        "id": "T5C63nUyVjdA"
      },
      "execution_count": null,
      "outputs": []
    },
    {
      "cell_type": "code",
      "source": [
        "import datetime\n",
        "my_date = datetime.date(2016, 7, 10)\n",
        "\n",
        "print(Employee.is_workday(my_date))"
      ],
      "metadata": {
        "colab": {
          "base_uri": "https://localhost:8080/"
        },
        "id": "00yaSrAFW8oc",
        "outputId": "7a9c551e-9038-4e1d-f0ef-cbcda89959f6"
      },
      "execution_count": null,
      "outputs": [
        {
          "output_type": "stream",
          "name": "stdout",
          "text": [
            "False\n"
          ]
        }
      ]
    },
    {
      "cell_type": "code",
      "source": [],
      "metadata": {
        "id": "fHP1XFDGXrZX"
      },
      "execution_count": null,
      "outputs": []
    },
    {
      "cell_type": "markdown",
      "source": [
        "inheritence"
      ],
      "metadata": {
        "id": "o78VXdvpZd8C"
      }
    },
    {
      "cell_type": "code",
      "source": [
        "class Employee:\n",
        "\n",
        "  raise_amount = 1.04\n",
        "\n",
        "  def __init__(self, first, last, pay):\n",
        "    self.first = first\n",
        "    self.last = last\n",
        "    self.pay = pay\n",
        "    self.email = self.first + '.' + self.last + '@company.com'\n",
        "\n",
        "\n",
        "  def fullname(self):\n",
        "    return f\"{self.first} {self.last}\"\n",
        "\n",
        "  def apply_raise(self):\n",
        "    self.pay = int(self.pay * Employee.raise_amount)\n",
        "\n",
        "\n",
        "class Developer(Employee):\n",
        "  raise_amount = 1.10\n",
        "\n",
        "  def __init__(self, first, last, pay, programming_language):\n",
        "    super().__init__(first, last, pay)   # Employee.__init__(self, first, last, pay) works too\n",
        "    self.programming_language = programming_language\n",
        "\n",
        "\n",
        "class Manager(Employee):\n",
        "  def __init__(self, first, last, pay, employees=None):\n",
        "    super().__init__(first, last, pay)\n",
        "    if employees is None:\n",
        "      self.employees = []\n",
        "    else:\n",
        "      self.employees = employees\n",
        "\n",
        "  def add_employee(self, employee):\n",
        "    if employee not in self.employees:\n",
        "      self.employees.append(employee)\n",
        "\n",
        "  def remove_employee(self, employee):\n",
        "    if employee in self.employees:\n",
        "      self.employees.remove(employee)\n",
        "\n",
        "  def print_employees(self):\n",
        "    for employee in self.employees:\n",
        "      print(f\"--> {employee.fullname()}\")\n"
      ],
      "metadata": {
        "id": "x24M06zwZfz2"
      },
      "execution_count": null,
      "outputs": []
    },
    {
      "cell_type": "code",
      "source": [
        "dev_1 = Developer('Cory', 'Schafer', '50000', 'Python')\n",
        "print(dev_1.email)\n",
        "print(dev_1.programming_language)"
      ],
      "metadata": {
        "colab": {
          "base_uri": "https://localhost:8080/"
        },
        "id": "O3IDkfFdhig1",
        "outputId": "0cbb99d0-ee64-491f-8e91-c3d4dbb52f78"
      },
      "execution_count": null,
      "outputs": [
        {
          "output_type": "stream",
          "name": "stdout",
          "text": [
            "Cory.Schafer@company.com\n",
            "Python\n"
          ]
        }
      ]
    },
    {
      "cell_type": "code",
      "source": [
        "mngr_1 = Manager('Sue', 'Smith', 90000, [dev_1])\n",
        "print(mngr_1.email)\n",
        "mngr_1.print_employees()"
      ],
      "metadata": {
        "colab": {
          "base_uri": "https://localhost:8080/"
        },
        "id": "ifEg6692kiuo",
        "outputId": "ad7dcdb1-c6be-45f7-833c-7a27349bb765"
      },
      "execution_count": null,
      "outputs": [
        {
          "output_type": "stream",
          "name": "stdout",
          "text": [
            "Sue.Smith@company.com\n",
            "--> Cory Schafer\n"
          ]
        }
      ]
    },
    {
      "cell_type": "code",
      "source": [
        "dev_2 = Developer('John', 'Doe', '55000', 'Java')\n",
        "mngr_1.add_employee(dev_2)\n",
        "mngr_1.print_employees()"
      ],
      "metadata": {
        "id": "g8hW267dk2c6",
        "colab": {
          "base_uri": "https://localhost:8080/"
        },
        "outputId": "c12a8151-3f1c-475f-b08c-66e692ef6e60"
      },
      "execution_count": 72,
      "outputs": [
        {
          "output_type": "stream",
          "name": "stdout",
          "text": [
            "--> Cory Schafer\n",
            "--> John Doe\n"
          ]
        }
      ]
    },
    {
      "cell_type": "code",
      "source": [],
      "metadata": {
        "id": "8O-zd1VAzdIr"
      },
      "execution_count": null,
      "outputs": []
    },
    {
      "cell_type": "code",
      "source": [
        "print(isinstance(mngr_1, Manager))\n",
        "print(isinstance(mngr_1, Employee))\n",
        "print(isinstance(mngr_1, Developer))"
      ],
      "metadata": {
        "colab": {
          "base_uri": "https://localhost:8080/"
        },
        "id": "sLOiFRSIyyjE",
        "outputId": "72149d34-ea45-4072-fa0e-cf521cb56439"
      },
      "execution_count": 75,
      "outputs": [
        {
          "output_type": "stream",
          "name": "stdout",
          "text": [
            "True\n",
            "True\n",
            "False\n"
          ]
        }
      ]
    },
    {
      "cell_type": "code",
      "source": [
        "print(issubclass(Developer, Employee))\n",
        "print(issubclass(Manager, Employee))\n",
        "print(issubclass(Developer, Manager))"
      ],
      "metadata": {
        "colab": {
          "base_uri": "https://localhost:8080/"
        },
        "id": "2INs0OBWzPrN",
        "outputId": "f38840d6-3ae3-4b76-ff0e-7ea5189a1ae3"
      },
      "execution_count": 78,
      "outputs": [
        {
          "output_type": "stream",
          "name": "stdout",
          "text": [
            "True\n",
            "True\n",
            "False\n"
          ]
        }
      ]
    },
    {
      "cell_type": "code",
      "source": [],
      "metadata": {
        "id": "0GxNf0gZztE2"
      },
      "execution_count": null,
      "outputs": []
    }
  ]
}